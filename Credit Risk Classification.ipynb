{
 "cells": [
  {
   "cell_type": "markdown",
   "metadata": {},
   "source": [
    "## Credit Risk Classification"
   ]
  },
  {
   "cell_type": "code",
   "execution_count": 1,
   "metadata": {},
   "outputs": [],
   "source": [
    "#importing libraries\n",
    "import numpy as np\n",
    "import pandas as pd\n",
    "import matplotlib.pyplot as plt\n",
    "from sklearn.preprocessing import LabelEncoder, StandardScaler\n",
    "from sklearn.model_selection import train_test_split, StratifiedKFold, cross_val_score, GridSearchCV\n",
    "from sklearn.metrics import accuracy_score, classification_report, roc_curve, auc\n",
    "from sklearn.tree import DecisionTreeClassifier\n",
    "from sklearn.linear_model import LogisticRegression\n",
    "from imblearn.over_sampling import SMOTE\n",
    "import xgboost as xgb\n",
    "from xgboost import plot_importance"
   ]
  },
  {
   "cell_type": "markdown",
   "metadata": {},
   "source": [
    "## EDA"
   ]
  },
  {
   "cell_type": "code",
   "execution_count": 2,
   "metadata": {},
   "outputs": [],
   "source": [
    "#read/open the dataset\n",
    "path = r'..\\data'\n",
    "\n",
    "#the first column is the index\n",
    "df = pd.read_csv(path + '\\german_credit_data.csv', index_col='Unnamed: 0')"
   ]
  },
  {
   "cell_type": "code",
   "execution_count": 3,
   "metadata": {},
   "outputs": [
    {
     "data": {
      "text/html": [
       "<div>\n",
       "<style scoped>\n",
       "    .dataframe tbody tr th:only-of-type {\n",
       "        vertical-align: middle;\n",
       "    }\n",
       "\n",
       "    .dataframe tbody tr th {\n",
       "        vertical-align: top;\n",
       "    }\n",
       "\n",
       "    .dataframe thead th {\n",
       "        text-align: right;\n",
       "    }\n",
       "</style>\n",
       "<table border=\"1\" class=\"dataframe\">\n",
       "  <thead>\n",
       "    <tr style=\"text-align: right;\">\n",
       "      <th></th>\n",
       "      <th>Age</th>\n",
       "      <th>Sex</th>\n",
       "      <th>Job</th>\n",
       "      <th>Housing</th>\n",
       "      <th>Saving accounts</th>\n",
       "      <th>Checking account</th>\n",
       "      <th>Credit amount</th>\n",
       "      <th>Duration</th>\n",
       "      <th>Purpose</th>\n",
       "      <th>Risk</th>\n",
       "    </tr>\n",
       "  </thead>\n",
       "  <tbody>\n",
       "    <tr>\n",
       "      <th>0</th>\n",
       "      <td>67</td>\n",
       "      <td>male</td>\n",
       "      <td>2</td>\n",
       "      <td>own</td>\n",
       "      <td>NaN</td>\n",
       "      <td>little</td>\n",
       "      <td>1169</td>\n",
       "      <td>6</td>\n",
       "      <td>radio/TV</td>\n",
       "      <td>good</td>\n",
       "    </tr>\n",
       "    <tr>\n",
       "      <th>1</th>\n",
       "      <td>22</td>\n",
       "      <td>female</td>\n",
       "      <td>2</td>\n",
       "      <td>own</td>\n",
       "      <td>little</td>\n",
       "      <td>moderate</td>\n",
       "      <td>5951</td>\n",
       "      <td>48</td>\n",
       "      <td>radio/TV</td>\n",
       "      <td>bad</td>\n",
       "    </tr>\n",
       "    <tr>\n",
       "      <th>2</th>\n",
       "      <td>49</td>\n",
       "      <td>male</td>\n",
       "      <td>1</td>\n",
       "      <td>own</td>\n",
       "      <td>little</td>\n",
       "      <td>NaN</td>\n",
       "      <td>2096</td>\n",
       "      <td>12</td>\n",
       "      <td>education</td>\n",
       "      <td>good</td>\n",
       "    </tr>\n",
       "  </tbody>\n",
       "</table>\n",
       "</div>"
      ],
      "text/plain": [
       "   Age     Sex  Job Housing Saving accounts Checking account  Credit amount  \\\n",
       "0   67    male    2     own             NaN           little           1169   \n",
       "1   22  female    2     own          little         moderate           5951   \n",
       "2   49    male    1     own          little              NaN           2096   \n",
       "\n",
       "   Duration    Purpose  Risk  \n",
       "0         6   radio/TV  good  \n",
       "1        48   radio/TV   bad  \n",
       "2        12  education  good  "
      ]
     },
     "execution_count": 3,
     "metadata": {},
     "output_type": "execute_result"
    }
   ],
   "source": [
    "#overview of the dataset\n",
    "df.head(3)"
   ]
  },
  {
   "cell_type": "markdown",
   "metadata": {},
   "source": [
    "The target variable is 'Risk', which is what we want to predict. It contains 2 unique values thus this is a binary classification problem."
   ]
  },
  {
   "cell_type": "code",
   "execution_count": 4,
   "metadata": {},
   "outputs": [
    {
     "data": {
      "text/plain": [
       "(1000, 10)"
      ]
     },
     "execution_count": 4,
     "metadata": {},
     "output_type": "execute_result"
    }
   ],
   "source": [
    "#There are 1000 rows and 9 features in the dataset (exluding y)\n",
    "df.shape"
   ]
  },
  {
   "cell_type": "markdown",
   "metadata": {},
   "source": [
    "Descriptive statistics of the dataset. We can already see the presence of outliers in the dataset, which be elaborated later on."
   ]
  },
  {
   "cell_type": "code",
   "execution_count": 5,
   "metadata": {},
   "outputs": [
    {
     "data": {
      "text/html": [
       "<div>\n",
       "<style scoped>\n",
       "    .dataframe tbody tr th:only-of-type {\n",
       "        vertical-align: middle;\n",
       "    }\n",
       "\n",
       "    .dataframe tbody tr th {\n",
       "        vertical-align: top;\n",
       "    }\n",
       "\n",
       "    .dataframe thead th {\n",
       "        text-align: right;\n",
       "    }\n",
       "</style>\n",
       "<table border=\"1\" class=\"dataframe\">\n",
       "  <thead>\n",
       "    <tr style=\"text-align: right;\">\n",
       "      <th></th>\n",
       "      <th>Age</th>\n",
       "      <th>Job</th>\n",
       "      <th>Credit amount</th>\n",
       "      <th>Duration</th>\n",
       "    </tr>\n",
       "  </thead>\n",
       "  <tbody>\n",
       "    <tr>\n",
       "      <th>count</th>\n",
       "      <td>1000.000000</td>\n",
       "      <td>1000.000000</td>\n",
       "      <td>1000.000000</td>\n",
       "      <td>1000.000000</td>\n",
       "    </tr>\n",
       "    <tr>\n",
       "      <th>mean</th>\n",
       "      <td>35.546000</td>\n",
       "      <td>1.904000</td>\n",
       "      <td>3271.258000</td>\n",
       "      <td>20.903000</td>\n",
       "    </tr>\n",
       "    <tr>\n",
       "      <th>std</th>\n",
       "      <td>11.375469</td>\n",
       "      <td>0.653614</td>\n",
       "      <td>2822.736876</td>\n",
       "      <td>12.058814</td>\n",
       "    </tr>\n",
       "    <tr>\n",
       "      <th>min</th>\n",
       "      <td>19.000000</td>\n",
       "      <td>0.000000</td>\n",
       "      <td>250.000000</td>\n",
       "      <td>4.000000</td>\n",
       "    </tr>\n",
       "    <tr>\n",
       "      <th>25%</th>\n",
       "      <td>27.000000</td>\n",
       "      <td>2.000000</td>\n",
       "      <td>1365.500000</td>\n",
       "      <td>12.000000</td>\n",
       "    </tr>\n",
       "    <tr>\n",
       "      <th>50%</th>\n",
       "      <td>33.000000</td>\n",
       "      <td>2.000000</td>\n",
       "      <td>2319.500000</td>\n",
       "      <td>18.000000</td>\n",
       "    </tr>\n",
       "    <tr>\n",
       "      <th>75%</th>\n",
       "      <td>42.000000</td>\n",
       "      <td>2.000000</td>\n",
       "      <td>3972.250000</td>\n",
       "      <td>24.000000</td>\n",
       "    </tr>\n",
       "    <tr>\n",
       "      <th>max</th>\n",
       "      <td>75.000000</td>\n",
       "      <td>3.000000</td>\n",
       "      <td>18424.000000</td>\n",
       "      <td>72.000000</td>\n",
       "    </tr>\n",
       "  </tbody>\n",
       "</table>\n",
       "</div>"
      ],
      "text/plain": [
       "               Age          Job  Credit amount     Duration\n",
       "count  1000.000000  1000.000000    1000.000000  1000.000000\n",
       "mean     35.546000     1.904000    3271.258000    20.903000\n",
       "std      11.375469     0.653614    2822.736876    12.058814\n",
       "min      19.000000     0.000000     250.000000     4.000000\n",
       "25%      27.000000     2.000000    1365.500000    12.000000\n",
       "50%      33.000000     2.000000    2319.500000    18.000000\n",
       "75%      42.000000     2.000000    3972.250000    24.000000\n",
       "max      75.000000     3.000000   18424.000000    72.000000"
      ]
     },
     "execution_count": 5,
     "metadata": {},
     "output_type": "execute_result"
    }
   ],
   "source": [
    "df.describe()"
   ]
  },
  {
   "cell_type": "markdown",
   "metadata": {},
   "source": [
    "There is an interesting observation we can make by looking at the below information. There are\n",
    "twice as many men than women who have applied and received credit. Moreover men tend to apply and receive credit a later stage of their lives."
   ]
  },
  {
   "cell_type": "code",
   "execution_count": 6,
   "metadata": {},
   "outputs": [
    {
     "name": "stdout",
     "output_type": "stream",
     "text": [
      "Distibution based on gender:\n",
      "male      690\n",
      "female    310\n",
      "Name: Sex, dtype: int64 \n",
      "\n",
      "Sex\n",
      "female    32.803226\n",
      "male      36.778261\n",
      "Name: Age, dtype: float64\n"
     ]
    }
   ],
   "source": [
    "#distribution between men and women\n",
    "print('Distibution based on gender:\\n' + str(df['Sex'].value_counts()), '\\n')\n",
    "print(df.groupby('Sex')['Age'].mean())"
   ]
  },
  {
   "cell_type": "code",
   "execution_count": 7,
   "metadata": {},
   "outputs": [
    {
     "data": {
      "image/png": "[encoded data removed]",
      "text/plain": [
       "<Figure size 1080x504 with 2 Axes>"
      ]
     },
     "metadata": {
      "needs_background": "light"
     },
     "output_type": "display_data"
    }
   ],
   "source": [
    "#preparing the data for the barplot\n",
    "list1 = [i for i in df.groupby('Sex')['Credit amount'].mean()]\n",
    "labels = ['Women', 'Men']\n",
    "colors = ['gray', 'b', 'r', 'limegreen']\n",
    "no_risk = []\n",
    "no_risk.extend([df['Risk'].value_counts()[1], df['Risk'].value_counts()[0]])\n",
    "risk_names = np.unique(df['Risk'].values)\n",
    "\n",
    "#barplot showing the average credit amount that each gender receives\n",
    "fig, axs = plt.subplots(nrows=1, ncols=2, figsize=(15, 7))\n",
    "axs[0].bar(labels, list1, color=colors[:2], width=0.65)\n",
    "axs[0].set_ylabel('Credit Amount (in DM)')\n",
    "axs[0].set_xlabel('Gender')\n",
    "axs[0].set_title('Credit distribution by gender')\n",
    "\n",
    "#second barplot\n",
    "axs[1].bar(risk_names, no_risk, color=colors[2:])\n",
    "axs[1].set_title('Distribution by credit rating')\n",
    "axs[1].set_ylabel('No of customers')\n",
    "axs[1].set_xlabel('Rating')\n",
    "plt.show()"
   ]
  },
  {
   "cell_type": "markdown",
   "metadata": {},
   "source": [
    "It is evident from the above barplot that men get an approximately **19%** higher credit amount than women. We can also observe that the dataset is *imbalanced* as there are more customers with a good credit rating than with bad (70% - 30%). We need to consider if we need to deploy an under/oversampling technique later on."
   ]
  },
  {
   "cell_type": "markdown",
   "metadata": {},
   "source": [
    "We now want to see the purpose that each customer applies and  receives credit for."
   ]
  },
  {
   "cell_type": "code",
   "execution_count": 8,
   "metadata": {},
   "outputs": [
    {
     "data": {
      "image/png": "[encoded data removed]",
      "text/plain": [
       "<Figure size 936x504 with 1 Axes>"
      ]
     },
     "metadata": {
      "needs_background": "light"
     },
     "output_type": "display_data"
    }
   ],
   "source": [
    "#preparing the data for the barplot\n",
    "purpose = np.unique(df['Purpose'])\n",
    "no_purpose = df['Purpose'].value_counts()\n",
    "colors_1 = ['brown','g','r', 'gold', 'm', 'k', 'tab:blue', 'gray']\n",
    "\n",
    "#Plot showing the reason for credit\n",
    "plt.figure(figsize=(13,7))\n",
    "plt.bar(purpose, no_purpose, color=colors_1, width=0.7)\n",
    "plt.ylabel('No of credit facilities')\n",
    "plt.title('Purpose of Credit Facility')\n",
    "plt.grid(axis='y', linestyle='--')\n",
    "plt.show()"
   ]
  },
  {
   "cell_type": "markdown",
   "metadata": {},
   "source": [
    "Most customers, around 34%, receive credit for business purposes. Car loans are quite popular, as well as credit for house appliances. On the other hand, credit for holidays and repairs are rarely been given.\n"
   ]
  },
  {
   "cell_type": "markdown",
   "metadata": {},
   "source": [
    "Let's have a look at the distribution of ages in the dataset. We are going to use a boxplot for this."
   ]
  },
  {
   "cell_type": "code",
   "execution_count": 9,
   "metadata": {},
   "outputs": [
    {
     "data": {
      "image/png": "[encoded data removed]",
      "text/plain": [
       "<Figure size 504x432 with 1 Axes>"
      ]
     },
     "metadata": {
      "needs_background": "light"
     },
     "output_type": "display_data"
    }
   ],
   "source": [
    "#boxplot\n",
    "fig, ax1 = plt.subplots(figsize=(7,6))\n",
    "ax1.boxplot(df['Age'], notch=True, sym='r')\n",
    "ax1.set_title('Age Distribution')\n",
    "ax1.set_xticks([])\n",
    "ax1.set_ylabel('Age')\n",
    "plt.show()"
   ]
  },
  {
   "cell_type": "markdown",
   "metadata": {},
   "source": [
    "The median age is around the age of 33 and most customers who received credit are between ages 27 - 41. It is also evident that there are some outliers, specifically Ages above 63. <br>"
   ]
  },
  {
   "cell_type": "markdown",
   "metadata": {},
   "source": [
    "We also want to visualize the probability distribution of the credit amount and duration period (in months) of each credit facility. This can be achieved by using **violin plots**."
   ]
  },
  {
   "cell_type": "code",
   "execution_count": 10,
   "metadata": {},
   "outputs": [
    {
     "data": {
      "image/png": "[encoded data removed]",
      "text/plain": [
       "<Figure size 864x504 with 2 Axes>"
      ]
     },
     "metadata": {
      "needs_background": "light"
     },
     "output_type": "display_data"
    }
   ],
   "source": [
    "#setting max values\n",
    "max_duration = np.max(df['Duration']) + 10\n",
    "max_amount = np.max(df['Credit amount']) + 1000\n",
    "\n",
    "#violin plots on credit amount and duration period of credit facility\n",
    "fig, axs = plt.subplots(nrows=1, ncols=2, figsize=(12, 7))\n",
    "axs[0].violinplot(df['Credit amount'], showmeans=True, showextrema=True, showmedians=True)\n",
    "axs[0].set_ylim(ymin=0)\n",
    "axs[0].set_yticks(np.arange(0, max_amount, step=2500))\n",
    "axs[0].set_ylabel('Amount')\n",
    "axs[0].set_xticks([])\n",
    "axs[0].set_title('Credit Amount Distribution')\n",
    "#second violinplot\n",
    "axs[1].violinplot(df['Duration'], showmeans=True, showextrema=True, showmedians=True)\n",
    "axs[1].set_title('Credit Duration Distribution')\n",
    "axs[1].set_yticks(np.arange(0, max_duration, step=10))\n",
    "axs[1].set_xticks([])\n",
    "axs[1].set_ylabel('Months')\n",
    "plt.show()"
   ]
  },
  {
   "cell_type": "markdown",
   "metadata": {},
   "source": [
    "Let's have a look at the relationship between risk and job. Firstly, the labels and the category they correspond to can be found below:\n",
    "\n",
    "- 0 - unskilled and non-resident \n",
    "- 1 - unskilled and resident \n",
    "- 2 - skilled\n",
    "- 3 - highly skilled"
   ]
  },
  {
   "cell_type": "code",
   "execution_count": 11,
   "metadata": {},
   "outputs": [
    {
     "data": {
      "image/png": "[encoded data removed]",
      "text/plain": [
       "<Figure size 720x360 with 1 Axes>"
      ]
     },
     "metadata": {
      "needs_background": "light"
     },
     "output_type": "display_data"
    }
   ],
   "source": [
    "#preparing the data\n",
    "job_risk = pd.crosstab(df['Job'],df['Risk'])\n",
    "#horizontal barplot\n",
    "job_risk.plot.barh(figsize=(10,5))\n",
    "plt.title('Risk based on Job')\n",
    "plt.xlabel('No of customers')\n",
    "plt.show()"
   ]
  },
  {
   "cell_type": "markdown",
   "metadata": {},
   "source": [
    "We can now look into the relationship between Housing and Risk. We want to identify what is the risk rating of customers based on their housing situation. Based on the plot, we can observe that customers who own their house are more likely to have a good credit rating."
   ]
  },
  {
   "cell_type": "code",
   "execution_count": 12,
   "metadata": {},
   "outputs": [
    {
     "data": {
      "image/png": "[encoded data removed]",
      "text/plain": [
       "<Figure size 720x360 with 1 Axes>"
      ]
     },
     "metadata": {
      "needs_background": "light"
     },
     "output_type": "display_data"
    }
   ],
   "source": [
    "#preparing the data\n",
    "house_risk = pd.crosstab(df['Housing'], df['Risk'])\n",
    "#visualizing the data using a horizontal barplot\n",
    "house_risk.plot.barh(figsize=(10,5), color=['r','deepskyblue'])\n",
    "plt.xlabel('No of customers')\n",
    "plt.show()"
   ]
  },
  {
   "cell_type": "markdown",
   "metadata": {},
   "source": [
    "## Preprocessing"
   ]
  },
  {
   "cell_type": "markdown",
   "metadata": {},
   "source": [
    "It is imperative to see whether there are any **missing values** in the dataset. We can easily check this by running the following code;"
   ]
  },
  {
   "cell_type": "code",
   "execution_count": 13,
   "metadata": {},
   "outputs": [
    {
     "data": {
      "text/plain": [
       "Age                   0\n",
       "Sex                   0\n",
       "Job                   0\n",
       "Housing               0\n",
       "Saving accounts     183\n",
       "Checking account    394\n",
       "Credit amount         0\n",
       "Duration              0\n",
       "Purpose               0\n",
       "Risk                  0\n",
       "dtype: int64"
      ]
     },
     "execution_count": 13,
     "metadata": {},
     "output_type": "execute_result"
    }
   ],
   "source": [
    "df.isna().sum()"
   ]
  },
  {
   "cell_type": "markdown",
   "metadata": {},
   "source": [
    "There are indeed missing values in 2 of the dataset's columns. At this point, we need to consider which imputation technique we will deploy to treat this issue. Running the following code we can also observe that in this case we are dealing with categorical variables. These will also need to be transformed into numerical values in order for the ML model to be able to process them."
   ]
  },
  {
   "cell_type": "code",
   "execution_count": 14,
   "metadata": {},
   "outputs": [
    {
     "data": {
      "text/plain": [
       "Age                  int64\n",
       "Sex                 object\n",
       "Job                  int64\n",
       "Housing             object\n",
       "Saving accounts     object\n",
       "Checking account    object\n",
       "Credit amount        int64\n",
       "Duration             int64\n",
       "Purpose             object\n",
       "Risk                object\n",
       "dtype: object"
      ]
     },
     "execution_count": 14,
     "metadata": {},
     "output_type": "execute_result"
    }
   ],
   "source": [
    "df.dtypes"
   ]
  },
  {
   "cell_type": "markdown",
   "metadata": {},
   "source": [
    "We impute the categorical data by assigning them a different category, specifically **'other'**."
   ]
  },
  {
   "cell_type": "code",
   "execution_count": 15,
   "metadata": {},
   "outputs": [],
   "source": [
    "#imputation\n",
    "df['Saving accounts'] = df['Saving accounts'].fillna('other')\n",
    "df['Checking account'] = df['Checking account'].fillna('other')"
   ]
  },
  {
   "cell_type": "markdown",
   "metadata": {},
   "source": [
    "Moving on by converting the categorical variables into numerical and consequently dropping the categorical columns."
   ]
  },
  {
   "cell_type": "code",
   "execution_count": 16,
   "metadata": {},
   "outputs": [],
   "source": [
    "#Purpose\n",
    "df = df.merge(pd.get_dummies(df['Purpose'], prefix='Purpose'), left_index=True, right_index=True)\n",
    "#Sex\n",
    "df = df.merge(pd.get_dummies(df['Sex'], prefix='Sex'), left_index=True, right_index=True)\n",
    "#Housing\n",
    "df = df.merge(pd.get_dummies(df['Housing'], prefix='Housing'), left_index=True, right_index=True)\n",
    "#Saving Accounts\n",
    "df = df.merge(pd.get_dummies(df[\"Saving accounts\"], prefix='Savings'), left_index=True, right_index=True)\n",
    "#Checking Account\n",
    "df = df.merge(pd.get_dummies(df[\"Checking account\"], prefix='Check'), left_index=True, right_index=True)\n",
    "\n",
    "#dropping the categorical columns\n",
    "col_names = ['Sex', 'Purpose', 'Housing', 'Saving accounts', 'Checking account']\n",
    "\n",
    "#function to drop the redundant columns\n",
    "def drop_col(dataframe, names):\n",
    "    for name in names:\n",
    "        dataframe = dataframe.drop(columns=name)\n",
    "    return dataframe\n",
    "\n",
    "#using the function to the dataset\n",
    "df = drop_col(df, col_names)"
   ]
  },
  {
   "cell_type": "markdown",
   "metadata": {},
   "source": [
    "The next step involves scaling the data which is required step before feeding them into Kmeans. We will use the LabelEncoder to transform the target variable."
   ]
  },
  {
   "cell_type": "code",
   "execution_count": 17,
   "metadata": {},
   "outputs": [],
   "source": [
    "#seperating the target variable from the rest of the dataset\n",
    "df_risk = df['Risk']\n",
    "df_rest = df.drop('Risk', axis=1)\n",
    "\n",
    "#Initializing the scaler\n",
    "scaler = StandardScaler()\n",
    "#fitting it into the data and subsequently transforming them\n",
    "df_sc = scaler.fit_transform(df_rest)\n",
    "\n",
    "#using label encoder to convert the target variable into numeric\n",
    "le = LabelEncoder()\n",
    "#fitting and transforming the target variable\n",
    "df_risk = le.fit_transform(df_risk)"
   ]
  },
  {
   "cell_type": "markdown",
   "metadata": {},
   "source": [
    "## Models"
   ]
  },
  {
   "cell_type": "markdown",
   "metadata": {},
   "source": [
    "We set the y and X variables and we proceed by splitting the data. We also set a random state for reproducibility purposes."
   ]
  },
  {
   "cell_type": "code",
   "execution_count": 18,
   "metadata": {},
   "outputs": [],
   "source": [
    "#setting the y and X variables\n",
    "y = df_risk\n",
    "X = df_sc"
   ]
  },
  {
   "cell_type": "markdown",
   "metadata": {},
   "source": [
    "We will make use of 3 different Machine Learning algorithms, specifically **Decision Tree, Logistic Regression** and **XGBoost**. The evaluation metric we will use is recall instead of accuracy. Remember that the formula for recall is: <br> \n",
    "\n",
    "$$ R = \\frac{ TP }{TP + FP} $$ <br>\n",
    "\n",
    "where TP = True Positive <br>\n",
    "and FP = False Positive <br> <br>"
   ]
  },
  {
   "cell_type": "code",
   "execution_count": 20,
   "metadata": {},
   "outputs": [
    {
     "name": "stdout",
     "output_type": "stream",
     "text": [
      "[15:34:40] WARNING: C:/Users/Administrator/workspace/xgboost-win64_release_1.3.0/src/learner.cc:1061: Starting in XGBoost 1.3.0, the default evaluation metric used with the objective 'binary:logistic' was changed from 'error' to 'logloss'. Explicitly set eval_metric if you'd like to restore the old behavior.\n",
      "[15:34:40] WARNING: C:/Users/Administrator/workspace/xgboost-win64_release_1.3.0/src/learner.cc:1061: Starting in XGBoost 1.3.0, the default evaluation metric used with the objective 'binary:logistic' was changed from 'error' to 'logloss'. Explicitly set eval_metric if you'd like to restore the old behavior.\n",
      "[15:34:40] WARNING: C:/Users/Administrator/workspace/xgboost-win64_release_1.3.0/src/learner.cc:1061: Starting in XGBoost 1.3.0, the default evaluation metric used with the objective 'binary:logistic' was changed from 'error' to 'logloss'. Explicitly set eval_metric if you'd like to restore the old behavior.\n",
      "[15:34:40] WARNING: C:/Users/Administrator/workspace/xgboost-win64_release_1.3.0/src/learner.cc:1061: Starting in XGBoost 1.3.0, the default evaluation metric used with the objective 'binary:logistic' was changed from 'error' to 'logloss'. Explicitly set eval_metric if you'd like to restore the old behavior.\n",
      "[15:34:41] WARNING: C:/Users/Administrator/workspace/xgboost-win64_release_1.3.0/src/learner.cc:1061: Starting in XGBoost 1.3.0, the default evaluation metric used with the objective 'binary:logistic' was changed from 'error' to 'logloss'. Explicitly set eval_metric if you'd like to restore the old behavior.\n",
      "[15:34:41] WARNING: C:/Users/Administrator/workspace/xgboost-win64_release_1.3.0/src/learner.cc:1061: Starting in XGBoost 1.3.0, the default evaluation metric used with the objective 'binary:logistic' was changed from 'error' to 'logloss'. Explicitly set eval_metric if you'd like to restore the old behavior.\n",
      "[15:34:41] WARNING: C:/Users/Administrator/workspace/xgboost-win64_release_1.3.0/src/learner.cc:1061: Starting in XGBoost 1.3.0, the default evaluation metric used with the objective 'binary:logistic' was changed from 'error' to 'logloss'. Explicitly set eval_metric if you'd like to restore the old behavior.\n",
      "[15:34:41] WARNING: C:/Users/Administrator/workspace/xgboost-win64_release_1.3.0/src/learner.cc:1061: Starting in XGBoost 1.3.0, the default evaluation metric used with the objective 'binary:logistic' was changed from 'error' to 'logloss'. Explicitly set eval_metric if you'd like to restore the old behavior.\n",
      "[15:34:41] WARNING: C:/Users/Administrator/workspace/xgboost-win64_release_1.3.0/src/learner.cc:1061: Starting in XGBoost 1.3.0, the default evaluation metric used with the objective 'binary:logistic' was changed from 'error' to 'logloss'. Explicitly set eval_metric if you'd like to restore the old behavior.\n",
      "[15:34:41] WARNING: C:/Users/Administrator/workspace/xgboost-win64_release_1.3.0/src/learner.cc:1061: Starting in XGBoost 1.3.0, the default evaluation metric used with the objective 'binary:logistic' was changed from 'error' to 'logloss'. Explicitly set eval_metric if you'd like to restore the old behavior.\n",
      "[15:34:42] WARNING: C:/Users/Administrator/workspace/xgboost-win64_release_1.3.0/src/learner.cc:1061: Starting in XGBoost 1.3.0, the default evaluation metric used with the objective 'binary:logistic' was changed from 'error' to 'logloss'. Explicitly set eval_metric if you'd like to restore the old behavior.\n"
     ]
    }
   ],
   "source": [
    "random_state = 42\n",
    "#initializing the ML models\n",
    "dt = DecisionTreeClassifier(random_state=random_state)\n",
    "lr = LogisticRegression(random_state=random_state)\n",
    "xgb_cl = xgb.XGBClassifier(use_label_encoder=False, random_state=random_state)\n",
    "\n",
    "#oversampling using SMOTE\n",
    "sm = SMOTE()\n",
    "scores = []\n",
    "models = []\n",
    "models.extend([dt, lr, xgb_cl])\n",
    "kf = StratifiedKFold(n_splits=10, random_state=random_state, shuffle=True)\n",
    "X_os, y_os = sm.fit_sample(X, y)\n",
    "\n",
    "#splitting the data\n",
    "for fold, (train_index, test_index) in enumerate(kf.split(X_os, y_os), 1):\n",
    "    X_train_os = X_os[train_index]\n",
    "    y_train_os = y_os[train_index]\n",
    "    X_test_os = X_os[test_index]\n",
    "    y_test_os = y_os[test_index]\n",
    "    \n",
    "for model in models:\n",
    "    model.fit(X_train_os, y_train_os)  \n",
    "    #note that we are using recall instead of accuracy\n",
    "    cvs = cross_val_score(model, X_train_os, y_train_os, cv=kf, scoring='recall', verbose=0)\n",
    "    scores.append(cvs)"
   ]
  },
  {
   "cell_type": "code",
   "execution_count": 21,
   "metadata": {},
   "outputs": [
    {
     "data": {
      "image/png": "[encoded data removed]",
      "text/plain": [
       "<Figure size 720x432 with 1 Axes>"
      ]
     },
     "metadata": {
      "needs_background": "light"
     },
     "output_type": "display_data"
    }
   ],
   "source": [
    "#checking the performance of the models with a simple boxplot\n",
    "ml_alg = ['Decision Tree', 'Logistic Regression', 'XGB']\n",
    "plt.figure(figsize=(10,6))\n",
    "plt.boxplot(scores, labels=ml_alg)\n",
    "plt.title('Performance of ML models')\n",
    "plt.ylabel('Recall')\n",
    "plt.show()"
   ]
  },
  {
   "cell_type": "markdown",
   "metadata": {},
   "source": [
    "### XGBoost"
   ]
  },
  {
   "cell_type": "markdown",
   "metadata": {},
   "source": [
    "Let's move ahead with **XGB** as it performs better than the other 2 algorithms. We will fine tune the parameters and then use them to improve the performance of the ML model."
   ]
  },
  {
   "cell_type": "code",
   "execution_count": 22,
   "metadata": {
    "scrolled": true
   },
   "outputs": [
    {
     "name": "stdout",
     "output_type": "stream",
     "text": [
      "{'learning_rate': 0.1, 'max_depth': 6, 'min_child_weight': 1, 'n_estimators': 150}\n",
      "[16:03:40] WARNING: C:/Users/Administrator/workspace/xgboost-win64_release_1.3.0/src/learner.cc:1061: Starting in XGBoost 1.3.0, the default evaluation metric used with the objective 'binary:logistic' was changed from 'error' to 'logloss'. Explicitly set eval_metric if you'd like to restore the old behavior.\n",
      "[16:03:40] WARNING: C:/Users/Administrator/workspace/xgboost-win64_release_1.3.0/src/learner.cc:1061: Starting in XGBoost 1.3.0, the default evaluation metric used with the objective 'binary:logistic' was changed from 'error' to 'logloss'. Explicitly set eval_metric if you'd like to restore the old behavior.\n",
      "[16:03:40] WARNING: C:/Users/Administrator/workspace/xgboost-win64_release_1.3.0/src/learner.cc:1061: Starting in XGBoost 1.3.0, the default evaluation metric used with the objective 'binary:logistic' was changed from 'error' to 'logloss'. Explicitly set eval_metric if you'd like to restore the old behavior.\n",
      "[16:03:41] WARNING: C:/Users/Administrator/workspace/xgboost-win64_release_1.3.0/src/learner.cc:1061: Starting in XGBoost 1.3.0, the default evaluation metric used with the objective 'binary:logistic' was changed from 'error' to 'logloss'. Explicitly set eval_metric if you'd like to restore the old behavior.\n",
      "[16:03:41] WARNING: C:/Users/Administrator/workspace/xgboost-win64_release_1.3.0/src/learner.cc:1061: Starting in XGBoost 1.3.0, the default evaluation metric used with the objective 'binary:logistic' was changed from 'error' to 'logloss'. Explicitly set eval_metric if you'd like to restore the old behavior.\n",
      "[16:03:41] WARNING: C:/Users/Administrator/workspace/xgboost-win64_release_1.3.0/src/learner.cc:1061: Starting in XGBoost 1.3.0, the default evaluation metric used with the objective 'binary:logistic' was changed from 'error' to 'logloss'. Explicitly set eval_metric if you'd like to restore the old behavior.\n",
      "[16:03:42] WARNING: C:/Users/Administrator/workspace/xgboost-win64_release_1.3.0/src/learner.cc:1061: Starting in XGBoost 1.3.0, the default evaluation metric used with the objective 'binary:logistic' was changed from 'error' to 'logloss'. Explicitly set eval_metric if you'd like to restore the old behavior.\n",
      "[16:03:42] WARNING: C:/Users/Administrator/workspace/xgboost-win64_release_1.3.0/src/learner.cc:1061: Starting in XGBoost 1.3.0, the default evaluation metric used with the objective 'binary:logistic' was changed from 'error' to 'logloss'. Explicitly set eval_metric if you'd like to restore the old behavior.\n",
      "[16:03:42] WARNING: C:/Users/Administrator/workspace/xgboost-win64_release_1.3.0/src/learner.cc:1061: Starting in XGBoost 1.3.0, the default evaluation metric used with the objective 'binary:logistic' was changed from 'error' to 'logloss'. Explicitly set eval_metric if you'd like to restore the old behavior.\n",
      "[16:03:43] WARNING: C:/Users/Administrator/workspace/xgboost-win64_release_1.3.0/src/learner.cc:1061: Starting in XGBoost 1.3.0, the default evaluation metric used with the objective 'binary:logistic' was changed from 'error' to 'logloss'. Explicitly set eval_metric if you'd like to restore the old behavior.\n",
      "[16:03:43] WARNING: C:/Users/Administrator/workspace/xgboost-win64_release_1.3.0/src/learner.cc:1061: Starting in XGBoost 1.3.0, the default evaluation metric used with the objective 'binary:logistic' was changed from 'error' to 'logloss'. Explicitly set eval_metric if you'd like to restore the old behavior.\n",
      "0.8228571428571427\n"
     ]
    }
   ],
   "source": [
    "#XGB\n",
    "xgb_model = xgb.XGBClassifier(objective='binary:logistic',\n",
    "                              nthread=4, use_label_encoder=False,\n",
    "                              eval_metric='error', random_state=random_state)\n",
    "#setting the parameters\n",
    "parameters = {'max_depth': range(3,10,2),\n",
    "              'min_child_weight': range(1,6,2),\n",
    "              'learning_rate': [0.1, 0.01, 0.05], \n",
    "              'n_estimators': list(range(100, 750, 50)),\n",
    "              'max_depth': list(range(2, 12, 2))}\n",
    "\n",
    "#grid search and fitting the model to the data\n",
    "xgb_cv = GridSearchCV(estimator=xgb_model, param_grid=parameters, \n",
    "                           scoring='roc_auc', n_jobs=-1, cv=10,\n",
    "                           verbose=0).fit(X_train_os, y_train_os)\n",
    "\n",
    "#saving the best parameters\n",
    "best_model = xgb_cv.best_params_\n",
    "print(best_model)\n",
    "\n",
    "#initializing the model using the best parameters and then fitting it into the data\n",
    "xgb_tuned = xgb.XGBClassifier(**best_model, use_label_encoder=False, \n",
    "                              random_state=random_state).fit(X,y)\n",
    "#predictions\n",
    "y_pred = xgb_tuned.predict(X_test_os)\n",
    "#cross validation\n",
    "print(cross_val_score(xgb_tuned, X_os, y_os, cv = 10).mean())"
   ]
  },
  {
   "cell_type": "code",
   "execution_count": 23,
   "metadata": {},
   "outputs": [
    {
     "name": "stdout",
     "output_type": "stream",
     "text": [
      "              precision    recall  f1-score   support\n",
      "\n",
      "           0       1.00      0.76      0.86        70\n",
      "           1       0.80      1.00      0.89        70\n",
      "\n",
      "    accuracy                           0.88       140\n",
      "   macro avg       0.90      0.88      0.88       140\n",
      "weighted avg       0.90      0.88      0.88       140\n",
      "\n"
     ]
    }
   ],
   "source": [
    "#Evaluation metrics\n",
    "print(classification_report(y_test_os, y_pred))"
   ]
  },
  {
   "cell_type": "markdown",
   "metadata": {},
   "source": [
    "The model achieves **88%** test accuracy. To evaluate the performance of this classification model and find out both the True Positive (recall) and False Positive Rate, we can have a look at the **ROC** (Receiver Operator Characteristic) curve below. Also note that the FPR is defined as follows;\n",
    "\n",
    "$$ FPR = \\frac{ FP }{FP + TN} $$ <br>"
   ]
  },
  {
   "cell_type": "code",
   "execution_count": 37,
   "metadata": {},
   "outputs": [
    {
     "data": {
      "image/png": "[encoded data removed]",
      "text/plain": [
       "<Figure size 432x288 with 1 Axes>"
      ]
     },
     "metadata": {
      "needs_background": "light"
     },
     "output_type": "display_data"
    },
    {
     "name": "stdout",
     "output_type": "stream",
     "text": [
      "Area Under Curve: 0.98\n"
     ]
    }
   ],
   "source": [
    "#ROC curve values\n",
    "y_pred_prob = xgb_tuned.predict_proba(X_test_os)[:,1]\n",
    "fpr, tpr, thresholds = roc_curve(y_test_os, y_pred_prob)\n",
    "\n",
    "#ROC curve\n",
    "plt.plot([0, 1], [0, 1], 'k--')\n",
    "plt.plot(fpr, tpr)\n",
    "plt.xlabel('False Positive Rate', color=\"r\")\n",
    "plt.ylabel('True Positive Rate', color=\"g\")\n",
    "plt.title('ROC Curve')\n",
    "plt.show()\n",
    "#AUC \n",
    "print (f\"Area Under Curve: {round(auc(fpr, tpr),2)}\")"
   ]
  },
  {
   "cell_type": "markdown",
   "metadata": {},
   "source": [
    "**AUC** (Area under the ROC Curve) is 98%, which means that **98%** of all predictions are correct. Lastly, our findings suggest that the most important factors when it comes to risk in this classifier are *Credit Amount* and *Age*."
   ]
  },
  {
   "cell_type": "code",
   "execution_count": 39,
   "metadata": {},
   "outputs": [
    {
     "data": {
      "image/png": "[encoded data removed]",
      "text/plain": [
       "<Figure size 432x288 with 1 Axes>"
      ]
     },
     "metadata": {
      "needs_background": "light"
     },
     "output_type": "display_data"
    }
   ],
   "source": [
    "#plot of feature importance\n",
    "plot_importance(xgb_tuned, max_num_features=5)\n",
    "plt.show()"
   ]
  }
 ],
 "metadata": {
  "kernelspec": {
   "display_name": "Python 3",
   "language": "python",
   "name": "python3"
  },
  "language_info": {
   "codemirror_mode": {
    "name": "ipython",
    "version": 3
   },
   "file_extension": ".py",
   "mimetype": "text/x-python",
   "name": "python",
   "nbconvert_exporter": "python",
   "pygments_lexer": "ipython3",
   "version": "3.7.6"
  },
  "toc": {
   "base_numbering": 1,
   "nav_menu": {},
   "number_sections": true,
   "sideBar": true,
   "skip_h1_title": false,
   "title_cell": "Table of Contents",
   "title_sidebar": "Contents",
   "toc_cell": false,
   "toc_position": {},
   "toc_section_display": true,
   "toc_window_display": false
  }
 },
 "nbformat": 4,
 "nbformat_minor": 4
}
